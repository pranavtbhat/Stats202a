{
 "cells": [
  {
   "cell_type": "code",
   "execution_count": 2,
   "metadata": {
    "collapsed": true
   },
   "outputs": [],
   "source": [
    "mySweep <- function(A, m){\n",
    "\n",
    "  # Perform a SWEEP operation on the square matrix A with the\n",
    "  # pivot element A[m,m].\n",
    "  #\n",
    "  # A: a square matrix.\n",
    "  # m: the pivot element is A[m, m].\n",
    "  # Returns a swept matrix.\n",
    "\n",
    "  #######################################\n",
    "  ## FILL IN THE BODY OF THIS FUNCTION ##\n",
    "  #######################################\n",
    "\n",
    "  n = dim(A)[1]\n",
    "\n",
    "  for(k in 1 : m){\n",
    "     for(i in 1 : n){\n",
    "         for(j in 1 : n){\n",
    "             # Sweep for i,j != k\n",
    "             if(i != k & j!= k){\n",
    "                A[i,j] = A[i,j] - (A[i,k] * A[k,j]) / A[k,k]\n",
    "             }\n",
    "         }\n",
    "     }\n",
    "\n",
    "     for(i in 1 : n){\n",
    "         # Sweep for i != k\n",
    "         if(i != k){\n",
    "             A[i,k] = A[i,k] / A[k,k]\n",
    "         }\n",
    "     }\n",
    "\n",
    "     for(j in 1 : n){\n",
    "         # Sweep for j != k\n",
    "         if(j != k){\n",
    "             A[k,j] = A[k,j]/A[k,k]\n",
    "         }\n",
    "     }\n",
    "\n",
    "     A[k,k] = -1 / A[k,k]\n",
    "  }\n",
    "\n",
    "\n",
    "  ## The output is the modified matrix A\n",
    "  return(A)\n",
    "\n",
    "}"
   ]
  },
  {
   "cell_type": "code",
   "execution_count": 6,
   "metadata": {
    "collapsed": false
   },
   "outputs": [
    {
     "name": "stdout",
     "output_type": "stream",
     "text": [
      "           [,1]      [,2]\n",
      "[1,] -0.9460045 1.0670143\n",
      "[2,] -0.6577280 0.2837368\n",
      "[3,]  0.8424466 1.3877176\n",
      "[4,]  1.1459082 0.9887664\n",
      "[5,] -0.2468485 0.2066057\n"
     ]
    }
   ],
   "source": [
    "n = 1000\n",
    "p=5\n",
    "d=2\n",
    "sigma = 1.\n",
    "IT = 1000\n",
    "W_true = matrix(rnorm(d*p), nrow=p) \n",
    "Z_true = matrix(rnorm(n*d), nrow=d) \n",
    "epsilon = matrix(rnorm(p*n)*sigma, nrow=p) \n",
    "X = W_true%*%Z_true + epsilon\n",
    "sq = 1.;\n",
    "XX = X%*%t(X)\n",
    "W = matrix(rnorm(p*d)*.1, nrow=p) \n",
    "for (it in 1:IT)\n",
    "{\n",
    "    A = rbind(cbind(t(W)%*%W/sq+diag(d), t(W)/sq), cbind(W/sq, diag(p)))\n",
    "    AS = mySweep(A, d)\n",
    "    alpha = AS[1:d, (d+1):(d+p)]\n",
    "    D = -AS[1:d, 1:d]\n",
    "    Zh = alpha %*% X\n",
    "    ZZ = Zh %*% t(Zh) + D*n\n",
    "    B = rbind(cbind(ZZ, Zh%*%t(X)), cbind(X%*%t(Zh), XX))\n",
    "    BS = mySweep(B, d)\n",
    "    W = t(BS[1:d, (d+1):(d+p)])\n",
    "    sq = mean(diag(BS[(d+1):(d+p), (d+1):(d+p)]))/n;\n",
    "    sq1 = mean((X-W%*%Zh)^2)\n",
    "}\n",
    "\n",
    "print(W)"
   ]
  },
  {
   "cell_type": "code",
   "execution_count": null,
   "metadata": {
    "collapsed": false
   },
   "outputs": [],
   "source": [
    "n = 200\n",
    "p = 100 \n",
    "d=3 \n",
    "sigma = .1 \n",
    "prob = .2 \n",
    "IT = 1000\n",
    "lambda = .1\n",
    "\n",
    "W_true = matrix(rnorm(p*d), nrow = p)\n",
    "Z_true = matrix(rnorm(n*d), nrow = d)\n",
    "epsilon = matrix(rnorm(p*n)*sigma, nrow=p)\n",
    "X = W_true%*%Z_true + epsilon\n",
    "R = matrix(runif(p*n)<prob, nrow = p)\n",
    "W = matrix(rnorm(p*d)*.1, nrow = p)\n",
    "Z = matrix(rnorm(n*d)*.1, nrow = d)\n",
    "for (it in 1:IT) { \n",
    "    for (i in 1:n){ \n",
    "        WW = t(W)%*%diag(R[,i])%*%W+lambda*diag(d) \n",
    "        WX = t(W)%*%diag(R[,i])%*%X[,i]\n",
    "        A = rbind(cbind(WW, WX), cbind(t(WX), 0)) \n",
    "        AS = mySweep(A, d)\n",
    "        Z[,i] = AS[1:d, d+1]\n",
    "    }\n",
    "    for (j in 1:p){ \n",
    "        ZZ = Z%*%diag(R[j, ])%*%t(Z)+lambda*diag(d) \n",
    "        ZX = Z%*%diag(R[j,])%*%X[j,]\n",
    "        B = rbind(cbind(ZZ, ZX), cbind(t(ZX), 0))\n",
    "        BS = mySweep(B, d)\n",
    "        W[j,] = BS[1:d, d+1]\n",
    "    }\n",
    "    sd1 = sqrt(sum(R*(X-W%*%Z)^2)/sum(R))\n",
    "    sd0 = sqrt(sum((1.-R)*(X-W%*%Z)^2)/sum(1.-R))\n",
    "    print(c(sd1, sd0))\n",
    "}\n",
    "\n",
    "W"
   ]
  }
 ],
 "metadata": {
  "anaconda-cloud": {},
  "kernelspec": {
   "display_name": "R",
   "language": "R",
   "name": "ir"
  },
  "language_info": {
   "codemirror_mode": "r",
   "file_extension": ".r",
   "mimetype": "text/x-r-source",
   "name": "R",
   "pygments_lexer": "r",
   "version": "3.3.1"
  }
 },
 "nbformat": 4,
 "nbformat_minor": 1
}
