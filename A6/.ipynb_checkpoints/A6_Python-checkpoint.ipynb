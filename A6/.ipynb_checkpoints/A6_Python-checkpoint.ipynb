{
 "cells": [
  {
   "cell_type": "code",
   "execution_count": 3,
   "metadata": {
    "collapsed": true
   },
   "outputs": [],
   "source": [
    "import numpy as np"
   ]
  },
  {
   "cell_type": "code",
   "execution_count": 9,
   "metadata": {
    "collapsed": true
   },
   "outputs": [],
   "source": [
    "def mySweep(A, m):\n",
    "    \"\"\"\n",
    "    Perform a SWEEP operation on A with the pivot element A[m,m].\n",
    "\n",
    "    :param A: a square matrix.\n",
    "    :param m: the pivot element is A[m, m].\n",
    "    :returns a swept matrix. Original matrix is unchanged.\n",
    "    \"\"\"\n",
    "\n",
    "    ## No need to change anything here\n",
    "    B = np.copy(A)\n",
    "    n = B.shape[0]\n",
    "    for k in range(m):\n",
    "        for i in range(n):\n",
    "            for j in range(n):\n",
    "                if i!=k and j!=k:\n",
    "                    B[i,j] = B[i,j] - B[i,k]*B[k,j] / B[k,k]\n",
    "        for i in range(n):\n",
    "            if i!=k:\n",
    "                 B[i,k] = B[i,k] / B[k,k]\n",
    "        for j in range(n):\n",
    "            if j!=k:\n",
    "                B[k,j] = B[k,j] / B[k,k]\n",
    "        B[k,k] = -1/B[k,k]\n",
    "\n",
    "    return(B)"
   ]
  },
  {
   "cell_type": "code",
   "execution_count": 67,
   "metadata": {
    "collapsed": false
   },
   "outputs": [],
   "source": [
    "def factorAnalysis(n = 10, p = 5, d = 2, sigma = 1, nIter = 1000):\n",
    "\n",
    "    \"\"\"\n",
    "    Perform factor analysis on simulated data.\n",
    "    Simulate data X from the factor analysis model, e.g.\n",
    "    X = Z_true * W.T + epsilon\n",
    "    where W_true is p * d loading matrix (numpy array), Z_true is a n * d matrix\n",
    "    (numpy array) of latent factors (assumed normal(0, I)), and epsilon is iid\n",
    "    normal(0, sigma^2) noise. You can assume that W_true is normal(0, I)\n",
    "\n",
    "    :param n: Sample size.\n",
    "    :param p: Number of variables\n",
    "    :param d: Number of latent factors\n",
    "    :param sigma: Standard deviation of noise\n",
    "    :param nIter: Number of iterations\n",
    "    \"\"\"\n",
    "\n",
    "    ## FILL CODE HERE\n",
    "    W_true = np.random.normal(size=(p, d))\n",
    "    Z_true = np.random.normal(size=(d, n))\n",
    "    epsilon = np.random.normal(size=(p, n)) * sigma\n",
    "    X = W_true.dot(Z_true) + epsilon\n",
    "\n",
    "    sq = 1.\n",
    "    XX = X.dot(X.T)\n",
    "    w = np.random.normal(size=(p, d)) * 0.1\n",
    "\n",
    "    for it in range(nIter):\n",
    "        A = np.vstack((\n",
    "            np.hstack((W.T.dot(W) / sq + np.identity(d), W.T / sq)),\n",
    "            np.hstack((W / sq, np.identity(p)))\n",
    "        ))\n",
    "        AS = mySweep(A, d)\n",
    "        alpha = AS[:d, d:(d + p + 1)]\n",
    "        D = -AS[:d, :d]\n",
    "        Zh = alpha.dot(X)\n",
    "        ZZ = Zh.dot(Zh.T) + D * n\n",
    "\n",
    "        B = np.vstack((\n",
    "            np.hstack((ZZ, Zh.dot(X.T))),\n",
    "            np.hstack((X.dot(Zh.T), XX))\n",
    "        ))\n",
    "        BS = mySweep(B, d)\n",
    "        w = BS[:d, d : (d + p + 1)].T\n",
    "\n",
    "        sq = np.mean(np.diagonal(BS[d : (d + p + 1), d : (d + p + 1)])) / n\n",
    "        \n",
    "    ## Return the p * d np.array w, the estimate of the loading matrix\n",
    "    return(w)\n"
   ]
  },
  {
   "cell_type": "code",
   "execution_count": 68,
   "metadata": {
    "collapsed": false
   },
   "outputs": [
    {
     "data": {
      "text/plain": [
       "array([[ 0.2730173 , -0.05729799],\n",
       "       [-0.09385676, -0.10331086],\n",
       "       [ 0.0349188 , -0.02420302],\n",
       "       [ 0.23262506, -0.07334341],\n",
       "       [-0.30546368,  0.21393128]])"
      ]
     },
     "execution_count": 68,
     "metadata": {},
     "output_type": "execute_result"
    }
   ],
   "source": [
    "factorAnalysis()"
   ]
  },
  {
   "cell_type": "code",
   "execution_count": 24,
   "metadata": {
    "collapsed": false
   },
   "outputs": [],
   "source": [
    "def matrixCompletion(n = 200, p = 100, d = 3, sigma = 0.1, nIter = 100,\n",
    "                     prob = 0.2, lam = 0.1):\n",
    "   \n",
    "    \"\"\"\n",
    "    Perform matrix completion on simulated data.\n",
    "    Simulate data X from the factor analysis model, e.g. \n",
    "    X = Z_true * W.T + epsilon\n",
    "    where W_true is p * d loading matrix (numpy array), Z_true is a n * d matrix \n",
    "    (numpy array) of latent factors (assumed normal(0, I)), and epsilon is iid \n",
    "    normal(0, sigma^2) noise. You can assume that W_true is normal(0, I)\n",
    "    \n",
    "    :param n: Sample size.\n",
    "    :param p: Number of variables\n",
    "    :param d: Number of latent factors\n",
    "    :param sigma: Standard deviation of noise\n",
    "    :param nIter: Number of iterations\n",
    "    :param prob: Probability that an entry of the matrix X is not missing\n",
    "    :param lam: Regularization parameter\n",
    "    \"\"\"\n",
    "\n",
    "    ## FILL CODE HERE\n",
    "    W_true = np.random.normal(size=(p,d))\n",
    "    Z_true = np.random.normal(size=(d,n))\n",
    "    epsilon = np.random.normal(size=(p,n)) * sigma\n",
    "    X = W_true.dot(Z_true) + epsilon\n",
    "    R = np.random.normal(size=(p,n)) < prob\n",
    "\n",
    "    W = np.random.normal(size=(p,d)) * 0.1\n",
    "    Z = np.random.normal(size=(d,n)) * 0.1\n",
    "    \n",
    "    for it in range(nIter):\n",
    "        for i in range(n):\n",
    "            WW = (W.T).dot(np.diag(R[:,i])).dot(W) + lam * np.identity(d)\n",
    "            WX = np.reshape((W.T).dot(np.diag(R[:,i])).dot(X[:,i]), (d,1))\n",
    "\n",
    "            A = np.vstack((\n",
    "                np.hstack((WW, WX)),\n",
    "                np.hstack((WX.T, np.zeros((1,1)))),\n",
    "            ))\n",
    "            AS = mySweep(A, d)\n",
    "            Z[:,i] = AS[:d, d]\n",
    "\n",
    "        for j in range(p):\n",
    "            ZZ = Z.dot(np.diag(R[j,:])).dot(Z.T) + lam * np.identity(d)\n",
    "            ZX = np.reshape(Z.dot(np.diag(R[j,:])).dot(X[j,:]), (d, 1))\n",
    "            \n",
    "            B = np.vstack((\n",
    "                np.hstack((ZZ, ZX)),\n",
    "                np.hstack((ZX.T, np.zeros((1,1))))\n",
    "            ))\n",
    "            BS = mySweep(B, d)\n",
    "            W[j,:] = BS[:d, d]\n",
    "\n",
    "    ## Return estimates of Z and W (both numpy arrays)\n",
    "    return Z, W"
   ]
  }
 ],
 "metadata": {
  "anaconda-cloud": {},
  "kernelspec": {
   "display_name": "Python [conda root]",
   "language": "python",
   "name": "conda-root-py"
  },
  "language_info": {
   "codemirror_mode": {
    "name": "ipython",
    "version": 2
   },
   "file_extension": ".py",
   "mimetype": "text/x-python",
   "name": "python",
   "nbconvert_exporter": "python",
   "pygments_lexer": "ipython2",
   "version": "2.7.12"
  }
 },
 "nbformat": 4,
 "nbformat_minor": 1
}
